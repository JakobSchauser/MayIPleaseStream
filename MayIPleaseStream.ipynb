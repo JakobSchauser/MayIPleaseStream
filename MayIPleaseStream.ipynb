{
 "cells": [
  {
   "cell_type": "code",
   "execution_count": 1,
   "metadata": {},
   "outputs": [],
   "source": [
    "from MayIPleaseStream import StreamFinder"
   ]
  },
  {
   "cell_type": "code",
   "execution_count": 2,
   "metadata": {},
   "outputs": [],
   "source": [
    "sf = StreamFinder()"
   ]
  },
  {
   "cell_type": "code",
   "execution_count": 3,
   "metadata": {},
   "outputs": [
    {
     "data": {
      "text/plain": [
       "[{'title': 'What Did Jack Do?', 'services': 'Netflix'},\n",
       " {'title': 'Inland Empire', 'services': 'Prime Video'},\n",
       " {'title': 'Mulholland Drive', 'services': 'Filmstriben, Prime Video'},\n",
       " {'title': 'The Straight Story', 'services': 'Filmstriben'},\n",
       " {'title': 'Lost Highway', 'services': 'Filmstriben'},\n",
       " {'title': 'Twin Peaks: Fire Walk with Me',\n",
       "  'services': 'Filmstriben, HBO MAX'},\n",
       " {'title': 'Wild at Heart', 'services': 'Sky Showtime'},\n",
       " {'title': 'Dune', 'services': 'HBO MAX'},\n",
       " {'title': 'The Elephant Man', 'services': 'Prime Video, Viaplay'},\n",
       " {'title': 'Eraserhead', 'services': 'Filmstriben'}]"
      ]
     },
     "execution_count": 3,
     "metadata": {},
     "output_type": "execute_result"
    }
   ],
   "source": [
    "sf.make_json(sf.get_director_movies('David Lynch'))"
   ]
  },
  {
   "cell_type": "code",
   "execution_count": 4,
   "metadata": {},
   "outputs": [
    {
     "name": "stdout",
     "output_type": "stream",
     "text": [
      "Licorice Pizza (Filmstriben, Prime Video)\n",
      "Anima (Netflix)\n",
      "Phantom Thread (Sky Showtime)\n",
      "The Master (Filmstriben, Prime Video)\n",
      "There Will Be Blood (Netflix, Sky Showtime)\n",
      "Punch-Drunk Love (Viaplay)\n"
     ]
    }
   ],
   "source": [
    "sf.prettyprint(sf.get_director_movies(\"Paul Thomas Anderson\"))\n"
   ]
  },
  {
   "cell_type": "code",
   "execution_count": 5,
   "metadata": {},
   "outputs": [
    {
     "data": {
      "text/plain": [
       "[('The Meg', 'HBO MAX'),\n",
       " ('The Menu', 'Disney+'),\n",
       " ('Nope', 'Sky Showtime'),\n",
       " ('Scream VI', 'Netflix'),\n",
       " ('Evil Dead Rise', 'HBO MAX'),\n",
       " ('Venom: Let There Be Carnage', 'Netflix'),\n",
       " ('The Silence of the Lambs', 'Prime Video'),\n",
       " ('Midsommar', 'Viaplay'),\n",
       " ('Parasite', 'Filmstriben'),\n",
       " ('1408', 'HBO MAX'),\n",
       " ('Smile', 'Sky Showtime'),\n",
       " ('Ghostbusters: Afterlife', 'Netflix'),\n",
       " ('Bird Box Barcelona', 'Netflix'),\n",
       " ('American Psycho', 'Prime Video'),\n",
       " ('Alien', 'Disney+'),\n",
       " ('X', 'Filmstriben, Viaplay'),\n",
       " ('Violent Night', 'Sky Showtime'),\n",
       " ('The Hunt', 'Disney+, Viaplay'),\n",
       " ('Hereditary', 'Viaplay'),\n",
       " ('The Shining', 'Prime Video, Viaplay')]"
      ]
     },
     "execution_count": 5,
     "metadata": {},
     "output_type": "execute_result"
    }
   ],
   "source": [
    "sf.get_top_in_genre('horror')\n"
   ]
  },
  {
   "cell_type": "code",
   "execution_count": 86,
   "metadata": {},
   "outputs": [
    {
     "name": "stdout",
     "output_type": "stream",
     "text": [
      "nfx Netflix\n",
      "dnp Disney Plus\n",
      "prv Amazon Prime Video\n",
      "hbm HBO Max\n",
      "hay Hayu\n",
      "cmr C More\n",
      "vip Viaplay\n",
      "itu Apple TV\n",
      "ply Google Play Movies\n",
      "tvt TV 2\n",
      "msf Microsoft Store\n",
      "mbi MUBI\n",
      "atp Apple TV Plus\n",
      "gdc GuideDoc\n",
      "nfk Netflix Kids\n",
      "ytr YouTube Premium\n",
      "act Acorn TV\n",
      "wak WAKANIM\n",
      "wki Rakuten TV\n",
      "fsb Filmstriben\n",
      "bck Blockbuster\n",
      "sfa SF Anytime\n",
      "cts Curiosity Stream\n",
      "dsv DOCSVILLE\n",
      "sfx Spamflix\n",
      "wow WOW Presents Plus\n",
      "mgl Magellan TV\n",
      "bhd BroadwayHD\n",
      "fmz Filmzie\n",
      "dkk Dekkoo\n",
      "trs True Story\n",
      "daf DocAlliance Films\n",
      "hoc Hoichoi\n",
      "dfk Dansk Filmskat\n",
      "drt DRTV\n",
      "eve Eventive\n",
      "ctx Cultpix\n",
      "flb FilmBox+\n",
      "bbo BritBox\n",
      "ptv Pluto TV\n",
      "sst SkyShowtime\n",
      "tak Takflix\n",
      "snx Sun Nxt\n",
      "cla Classix\n",
      "cru Crunchyroll\n"
     ]
    }
   ],
   "source": [
    "for p in just_watch.get_providers():\n",
    "    print(p[\"short_name\"], p[\"clear_name\"])"
   ]
  }
 ],
 "metadata": {
  "kernelspec": {
   "display_name": "experimental",
   "language": "python",
   "name": "python3"
  },
  "language_info": {
   "codemirror_mode": {
    "name": "ipython",
    "version": 3
   },
   "file_extension": ".py",
   "mimetype": "text/x-python",
   "name": "python",
   "nbconvert_exporter": "python",
   "pygments_lexer": "ipython3",
   "version": "3.11.4"
  },
  "orig_nbformat": 4
 },
 "nbformat": 4,
 "nbformat_minor": 2
}
