{
 "cells": [
  {
   "cell_type": "code",
   "execution_count": 1,
   "metadata": {},
   "outputs": [],
   "source": [
    "from MayIPleaseStream import StreamFinder"
   ]
  },
  {
   "cell_type": "code",
   "execution_count": 2,
   "metadata": {},
   "outputs": [],
   "source": [
    "sf = StreamFinder()"
   ]
  },
  {
   "cell_type": "code",
   "execution_count": 7,
   "metadata": {},
   "outputs": [
    {
     "data": {
      "text/plain": [
       "[]"
      ]
     },
     "execution_count": 7,
     "metadata": {},
     "output_type": "execute_result"
    }
   ],
   "source": []
  },
  {
   "cell_type": "code",
   "execution_count": 3,
   "metadata": {},
   "outputs": [
    {
     "data": {
      "text/plain": [
       "[{'title': 'What Did Jack Do?', 'services': 'Netflix'},\n",
       " {'title': 'Inland Empire', 'services': 'Prime Video'},\n",
       " {'title': 'Mulholland Drive', 'services': 'Filmstriben, Prime Video'},\n",
       " {'title': 'The Straight Story', 'services': 'Filmstriben'},\n",
       " {'title': 'Lost Highway', 'services': 'Filmstriben'},\n",
       " {'title': 'Twin Peaks: Fire Walk with Me',\n",
       "  'services': 'Filmstriben, HBO MAX'},\n",
       " {'title': 'Wild at Heart', 'services': 'Sky Showtime'},\n",
       " {'title': 'Dune', 'services': 'HBO MAX'},\n",
       " {'title': 'The Elephant Man', 'services': 'Prime Video, Viaplay'},\n",
       " {'title': 'Eraserhead', 'services': 'Filmstriben'}]"
      ]
     },
     "execution_count": 3,
     "metadata": {},
     "output_type": "execute_result"
    }
   ],
   "source": [
    "sf.make_json(sf.get_director_movies('David Lynch'))"
   ]
  },
  {
   "cell_type": "code",
   "execution_count": 4,
   "metadata": {},
   "outputs": [
    {
     "name": "stdout",
     "output_type": "stream",
     "text": [
      "Licorice Pizza (Filmstriben, Prime Video)\n",
      "Anima (Netflix)\n",
      "Phantom Thread (Sky Showtime)\n",
      "The Master (Filmstriben, Prime Video)\n",
      "There Will Be Blood (Netflix, Sky Showtime)\n",
      "Punch-Drunk Love (Viaplay)\n"
     ]
    }
   ],
   "source": [
    "sf.prettyprint(sf.get_director_movies(\"Paul Thomas Anderson\"))\n"
   ]
  },
  {
   "cell_type": "code",
   "execution_count": 5,
   "metadata": {},
   "outputs": [
    {
     "data": {
      "text/plain": [
       "[('The Meg', 'HBO MAX'),\n",
       " ('The Menu', 'Disney+'),\n",
       " ('Nope', 'Sky Showtime'),\n",
       " ('Scream VI', 'Netflix'),\n",
       " ('Evil Dead Rise', 'HBO MAX'),\n",
       " ('Venom: Let There Be Carnage', 'Netflix'),\n",
       " ('The Silence of the Lambs', 'Prime Video'),\n",
       " ('Midsommar', 'Viaplay'),\n",
       " ('Parasite', 'Filmstriben'),\n",
       " ('1408', 'HBO MAX'),\n",
       " ('Smile', 'Sky Showtime'),\n",
       " ('Ghostbusters: Afterlife', 'Netflix'),\n",
       " ('Bird Box Barcelona', 'Netflix'),\n",
       " ('American Psycho', 'Prime Video'),\n",
       " ('Alien', 'Disney+'),\n",
       " ('X', 'Filmstriben, Viaplay'),\n",
       " ('Violent Night', 'Sky Showtime'),\n",
       " ('The Hunt', 'Disney+, Viaplay'),\n",
       " ('Hereditary', 'Viaplay'),\n",
       " ('The Shining', 'Prime Video, Viaplay')]"
      ]
     },
     "execution_count": 5,
     "metadata": {},
     "output_type": "execute_result"
    }
   ],
   "source": [
    "sf.get_top_in_genre('horror')\n"
   ]
  },
  {
   "cell_type": "code",
   "execution_count": 8,
   "metadata": {},
   "outputs": [],
   "source": [
    "import justwatch\n"
   ]
  },
  {
   "cell_type": "code",
   "execution_count": 5,
   "metadata": {},
   "outputs": [
    {
     "name": "stdout",
     "output_type": "stream",
     "text": [
      "Hej\n",
      "a\n"
     ]
    }
   ],
   "source": [
    "a = \"Hej\"\n",
    "\n",
    "\n",
    "a = \"nej\"\n",
    "\n",
    "print(a)\n",
    "\n",
    "\n",
    "# addsa\n",
    "\n",
    "\n",
    "print(\"a\")"
   ]
  },
  {
   "cell_type": "code",
   "execution_count": 1,
   "metadata": {},
   "outputs": [],
   "source": [
    "from PyMovieDb import IMDB\n",
    "imdb = IMDB()"
   ]
  },
  {
   "cell_type": "code",
   "execution_count": 11,
   "metadata": {},
   "outputs": [
    {
     "data": {
      "text/plain": [
       "'{\\n  \"result_count\": 5,\\n  \"results\": [\\n    {\\n      \"id\": \"tt1691152\",\\n      \"name\": \"David Lynch: The Art Life 2016 David Lynch, Lula Lynch\",\\n      \"url\": \"https://www.imdb.com/title/tt1691152/?ref_=fn_al_tt_1\",\\n      \"poster\": \"https://m.media-amazon.com/images/M/MV5BMDdmOTg0YzktZmY0Yy00OGViLTk1OTctYmNmNTlmZThkOTVmXkEyXkFqcGdeQXVyMjY0ODAwNTc@._V1_QL75_UY74_CR2,0,50,74_.jpg\"\\n    },\\n    {\\n      \"id\": \"tt8021928\",\\n      \"name\": \"David Lynch Cooks Quinoa 2007 Short David Lynch\",\\n      \"url\": \"https://www.imdb.com/title/tt8021928/?ref_=fn_al_tt_2\",\\n      \"poster\": \"https://m.media-amazon.com/images/M/MV5BOTEwNDE3NjItZjNlNy00Nzg3LWIzNmItOTQ4NmYzZWVlZjlhXkEyXkFqcGdeQXVyNjkwMTYxMTE@._V1_QL75_UY74_CR49,0,50,74_.jpg\"\\n    },\\n    {\\n      \"id\": \"tt0357173\",\\n      \"name\": \"The Short Films of David Lynch 2002 Video Jeffe Alperi, Robert Chadwick\",\\n      \"url\": \"https://www.imdb.com/title/tt0357173/?ref_=fn_al_tt_3\",\\n      \"poster\": \"https://m.media-amazon.com/images/M/MV5BNzZjYTk5NzMtMTQwMy00MWQ5LTg2MmUtOWRhNTYxODQ2MDBkXkEyXkFqcGdeQXVyMzg4NzMzODU@._V1_QL75_UY74_CR2,0,50,74_.jpg\"\\n    },\\n    {\\n      \"id\": \"tt0100935\",\\n      \"name\": \"Wild at Heart 1990 Nicolas Cage, Laura Dern\",\\n      \"url\": \"https://www.imdb.com/title/tt0100935/?ref_=fn_al_tt_4\",\\n      \"poster\": \"https://m.media-amazon.com/images/M/MV5BODJiNmU0YzgtMGU1MS00M2YzLWI1NDctOGQwYWRiODZkM2YwXkEyXkFqcGdeQXVyNjc5NjEzNA@@._V1_QL75_UX50_CR0,1,50,74_.jpg\"\\n    },\\n    {\\n      \"id\": \"tt8796456\",\\n      \"name\": \"Parisienne People by David Lynch 1998 Video\",\\n      \"url\": \"https://www.imdb.com/title/tt8796456/?ref_=fn_al_tt_5\",\\n      \"poster\": \"https://m.media-amazon.com/images/M/MV5BMDU4ZmY0N2YtM2ZkOC00ZDgxLTg1MGItOTJjMjU3Y2M2M2Q1XkEyXkFqcGdeQXVyNDE5MTU2MDE@._V1_QL75_UY74_CR1,0,50,74_.jpg\"\\n    }\\n  ]\\n}'"
      ]
     },
     "execution_count": 11,
     "metadata": {},
     "output_type": "execute_result"
    }
   ],
   "source": [
    "imdb.search(\"David Lynch\")"
   ]
  },
  {
   "cell_type": "code",
   "execution_count": 10,
   "metadata": {},
   "outputs": [
    {
     "data": {
      "text/plain": [
       "[{'id': 1,\n",
       "  'short_name': 'act',\n",
       "  'technical_name': 'action',\n",
       "  'translation': 'Action & Adventure',\n",
       "  'slug': 'action-and-adventure'},\n",
       " {'id': 2,\n",
       "  'short_name': 'ani',\n",
       "  'technical_name': 'animation',\n",
       "  'translation': 'Animation',\n",
       "  'slug': 'animation'},\n",
       " {'id': 3,\n",
       "  'short_name': 'cmy',\n",
       "  'technical_name': 'comedy',\n",
       "  'translation': 'Comedy',\n",
       "  'slug': 'comedy'},\n",
       " {'id': 4,\n",
       "  'short_name': 'crm',\n",
       "  'technical_name': 'crime',\n",
       "  'translation': 'Crime',\n",
       "  'slug': 'crime'},\n",
       " {'id': 5,\n",
       "  'short_name': 'doc',\n",
       "  'technical_name': 'documentation',\n",
       "  'translation': 'Documentary',\n",
       "  'slug': 'documentary'},\n",
       " {'id': 6,\n",
       "  'short_name': 'drm',\n",
       "  'technical_name': 'drama',\n",
       "  'translation': 'Drama',\n",
       "  'slug': 'drama'},\n",
       " {'id': 7,\n",
       "  'short_name': 'fnt',\n",
       "  'technical_name': 'fantasy',\n",
       "  'translation': 'Fantasy',\n",
       "  'slug': 'fantasy'},\n",
       " {'id': 8,\n",
       "  'short_name': 'hst',\n",
       "  'technical_name': 'history',\n",
       "  'translation': 'History',\n",
       "  'slug': 'history'},\n",
       " {'id': 9,\n",
       "  'short_name': 'hrr',\n",
       "  'technical_name': 'horror',\n",
       "  'translation': 'Horror',\n",
       "  'slug': 'horror'},\n",
       " {'id': 10,\n",
       "  'short_name': 'fml',\n",
       "  'technical_name': 'family',\n",
       "  'translation': 'Kids & Family',\n",
       "  'slug': 'kids-and-family'},\n",
       " {'id': 11,\n",
       "  'short_name': 'msc',\n",
       "  'technical_name': 'music',\n",
       "  'translation': 'Music & Musical',\n",
       "  'slug': 'music-and-musical'},\n",
       " {'id': 12,\n",
       "  'short_name': 'trl',\n",
       "  'technical_name': 'thriller',\n",
       "  'translation': 'Mystery & Thriller',\n",
       "  'slug': 'mystery-and-thriller'},\n",
       " {'id': 13,\n",
       "  'short_name': 'rma',\n",
       "  'technical_name': 'romance',\n",
       "  'translation': 'Romance',\n",
       "  'slug': 'romance'},\n",
       " {'id': 14,\n",
       "  'short_name': 'scf',\n",
       "  'technical_name': 'scifi',\n",
       "  'translation': 'Science-Fiction',\n",
       "  'slug': 'science-fiction'},\n",
       " {'id': 15,\n",
       "  'short_name': 'spt',\n",
       "  'technical_name': 'sport',\n",
       "  'translation': 'Sport',\n",
       "  'slug': 'sport'},\n",
       " {'id': 16,\n",
       "  'short_name': 'war',\n",
       "  'technical_name': 'war',\n",
       "  'translation': 'War & Military',\n",
       "  'slug': 'war-and-military'},\n",
       " {'id': 17,\n",
       "  'short_name': 'wsn',\n",
       "  'technical_name': 'western',\n",
       "  'translation': 'Western',\n",
       "  'slug': 'western'},\n",
       " {'id': 23,\n",
       "  'short_name': 'rly',\n",
       "  'technical_name': 'reality',\n",
       "  'translation': 'Reality TV',\n",
       "  'slug': 'reality-tv'},\n",
       " {'id': 18,\n",
       "  'short_name': 'eur',\n",
       "  'technical_name': 'european',\n",
       "  'translation': 'Made in Europe',\n",
       "  'slug': 'made-in-europe'}]"
      ]
     },
     "execution_count": 10,
     "metadata": {},
     "output_type": "execute_result"
    }
   ],
   "source": [
    "import justwatch\n",
    "\n",
    "just_watch = justwatch.JustWatch(country='DK')\n"
   ]
  }
 ],
 "metadata": {
  "kernelspec": {
   "display_name": "experimental",
   "language": "python",
   "name": "python3"
  },
  "language_info": {
   "codemirror_mode": {
    "name": "ipython",
    "version": 3
   },
   "file_extension": ".py",
   "mimetype": "text/x-python",
   "name": "python",
   "nbconvert_exporter": "python",
   "pygments_lexer": "ipython3",
   "version": "3.11.4"
  },
  "orig_nbformat": 4
 },
 "nbformat": 4,
 "nbformat_minor": 2
}
